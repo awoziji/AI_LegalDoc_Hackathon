{
 "cells": [
  {
   "cell_type": "code",
   "execution_count": 1,
   "metadata": {},
   "outputs": [],
   "source": [
    "import os\n",
    "import numpy as np \n",
    "import re\n",
    "import io\n",
    "from utilities.features_csv import to_csv\n",
    "import pandas as pd\n",
    "from IPython.display import display"
   ]
  },
  {
   "cell_type": "markdown",
   "metadata": {},
   "source": [
    "# Preprocessing"
   ]
  },
  {
   "cell_type": "code",
   "execution_count": 2,
   "metadata": {},
   "outputs": [],
   "source": [
    "import re \n",
    "import csv \n",
    "docs = {}\n",
    "labels = {}\n",
    "#I only work if you run me in the same folder as the actual text files \n",
    "\n",
    "with open('training_labels.csv') as csv_file:\n",
    "    csv_reader = csv.reader(csv_file, delimiter=',')\n",
    "    line_count = 0\n",
    "    for row in csv_reader:\n",
    "        if line_count == 0:\n",
    "            line_count += 1\n",
    "        else:\n",
    "            id = int(row[1])\n",
    "            score= float(row[2])\n",
    "            labels[id]=score\n",
    "            line_count += 1\n",
    "i = 0\n",
    "for root, dirs, files in os.walk(\"corpus/\"):\n",
    "    for file in files:\n",
    "        if file.endswith(\".txt\"):\n",
    "            id = re.sub(\"[^0-9]\", \"\", file)\n",
    "            id = int(id) \n",
    "            path_file = os.path.join(root,file)\n",
    "            curdir = path_file\n",
    "            file = open(curdir, 'r', errors='ignore')\n",
    "            i+=1\n",
    "            text = file.read()\n",
    "            docs[id] = text\n",
    "\n",
    "        "
   ]
  },
  {
   "cell_type": "code",
   "execution_count": 3,
   "metadata": {},
   "outputs": [],
   "source": [
    "to_csv(docs, labels)"
   ]
  },
  {
   "cell_type": "code",
   "execution_count": 3,
   "metadata": {},
   "outputs": [
    {
     "data": {
      "text/html": [
       "<div>\n",
       "<style scoped>\n",
       "    .dataframe tbody tr th:only-of-type {\n",
       "        vertical-align: middle;\n",
       "    }\n",
       "\n",
       "    .dataframe tbody tr th {\n",
       "        vertical-align: top;\n",
       "    }\n",
       "\n",
       "    .dataframe thead th {\n",
       "        text-align: right;\n",
       "    }\n",
       "</style>\n",
       "<table border=\"1\" class=\"dataframe\">\n",
       "  <thead>\n",
       "    <tr style=\"text-align: right;\">\n",
       "      <th></th>\n",
       "      <th>iD</th>\n",
       "      <th>minor</th>\n",
       "      <th>geo-location</th>\n",
       "      <th>contact_email</th>\n",
       "      <th>vendors</th>\n",
       "      <th>sell_personal</th>\n",
       "      <th>share_personal</th>\n",
       "      <th>Cookies</th>\n",
       "      <th>fog_index</th>\n",
       "      <th>avg_sentence_length</th>\n",
       "      <th>flesch_reading_ease</th>\n",
       "      <th>dale_chall_readability_score</th>\n",
       "      <th>Score</th>\n",
       "    </tr>\n",
       "  </thead>\n",
       "  <tbody>\n",
       "    <tr>\n",
       "      <th>0</th>\n",
       "      <td>20481</td>\n",
       "      <td>1</td>\n",
       "      <td>0</td>\n",
       "      <td>0</td>\n",
       "      <td>1</td>\n",
       "      <td>0</td>\n",
       "      <td>0</td>\n",
       "      <td>0</td>\n",
       "      <td>75.245659</td>\n",
       "      <td>183.114146</td>\n",
       "      <td>-4.42</td>\n",
       "      <td>9.08</td>\n",
       "      <td>3.0</td>\n",
       "    </tr>\n",
       "    <tr>\n",
       "      <th>1</th>\n",
       "      <td>20484</td>\n",
       "      <td>0</td>\n",
       "      <td>0</td>\n",
       "      <td>1</td>\n",
       "      <td>0</td>\n",
       "      <td>0</td>\n",
       "      <td>1</td>\n",
       "      <td>1</td>\n",
       "      <td>58.618557</td>\n",
       "      <td>141.546392</td>\n",
       "      <td>37.79</td>\n",
       "      <td>7.02</td>\n",
       "      <td>3.0</td>\n",
       "    </tr>\n",
       "    <tr>\n",
       "      <th>2</th>\n",
       "      <td>854</td>\n",
       "      <td>0</td>\n",
       "      <td>0</td>\n",
       "      <td>0</td>\n",
       "      <td>0</td>\n",
       "      <td>0</td>\n",
       "      <td>0</td>\n",
       "      <td>0</td>\n",
       "      <td>55.264865</td>\n",
       "      <td>133.162162</td>\n",
       "      <td>46.30</td>\n",
       "      <td>6.60</td>\n",
       "      <td>2.0</td>\n",
       "    </tr>\n",
       "    <tr>\n",
       "      <th>3</th>\n",
       "      <td>20490</td>\n",
       "      <td>1</td>\n",
       "      <td>0</td>\n",
       "      <td>1</td>\n",
       "      <td>0</td>\n",
       "      <td>0</td>\n",
       "      <td>0</td>\n",
       "      <td>1</td>\n",
       "      <td>70.405195</td>\n",
       "      <td>171.012987</td>\n",
       "      <td>7.88</td>\n",
       "      <td>8.48</td>\n",
       "      <td>3.0</td>\n",
       "    </tr>\n",
       "    <tr>\n",
       "      <th>4</th>\n",
       "      <td>20493</td>\n",
       "      <td>0</td>\n",
       "      <td>0</td>\n",
       "      <td>0</td>\n",
       "      <td>0</td>\n",
       "      <td>0</td>\n",
       "      <td>0</td>\n",
       "      <td>0</td>\n",
       "      <td>81.172242</td>\n",
       "      <td>197.930605</td>\n",
       "      <td>-10.99</td>\n",
       "      <td>9.82</td>\n",
       "      <td>2.0</td>\n",
       "    </tr>\n",
       "    <tr>\n",
       "      <th>5</th>\n",
       "      <td>173</td>\n",
       "      <td>0</td>\n",
       "      <td>0</td>\n",
       "      <td>1</td>\n",
       "      <td>0</td>\n",
       "      <td>0</td>\n",
       "      <td>0</td>\n",
       "      <td>1</td>\n",
       "      <td>47.731507</td>\n",
       "      <td>114.328767</td>\n",
       "      <td>65.41</td>\n",
       "      <td>5.67</td>\n",
       "      <td>3.0</td>\n",
       "    </tr>\n",
       "    <tr>\n",
       "      <th>6</th>\n",
       "      <td>11096</td>\n",
       "      <td>0</td>\n",
       "      <td>0</td>\n",
       "      <td>1</td>\n",
       "      <td>0</td>\n",
       "      <td>0</td>\n",
       "      <td>0</td>\n",
       "      <td>0</td>\n",
       "      <td>49.727168</td>\n",
       "      <td>119.317919</td>\n",
       "      <td>60.35</td>\n",
       "      <td>5.92</td>\n",
       "      <td>2.0</td>\n",
       "    </tr>\n",
       "    <tr>\n",
       "      <th>7</th>\n",
       "      <td>20500</td>\n",
       "      <td>0</td>\n",
       "      <td>0</td>\n",
       "      <td>0</td>\n",
       "      <td>0</td>\n",
       "      <td>0</td>\n",
       "      <td>0</td>\n",
       "      <td>1</td>\n",
       "      <td>92.804233</td>\n",
       "      <td>227.010582</td>\n",
       "      <td>-48.97</td>\n",
       "      <td>11.26</td>\n",
       "      <td>2.0</td>\n",
       "    </tr>\n",
       "    <tr>\n",
       "      <th>8</th>\n",
       "      <td>516</td>\n",
       "      <td>0</td>\n",
       "      <td>1</td>\n",
       "      <td>0</td>\n",
       "      <td>0</td>\n",
       "      <td>0</td>\n",
       "      <td>0</td>\n",
       "      <td>1</td>\n",
       "      <td>66.037158</td>\n",
       "      <td>160.092896</td>\n",
       "      <td>18.96</td>\n",
       "      <td>7.94</td>\n",
       "      <td>2.0</td>\n",
       "    </tr>\n",
       "    <tr>\n",
       "      <th>9</th>\n",
       "      <td>20506</td>\n",
       "      <td>0</td>\n",
       "      <td>0</td>\n",
       "      <td>0</td>\n",
       "      <td>0</td>\n",
       "      <td>0</td>\n",
       "      <td>0</td>\n",
       "      <td>0</td>\n",
       "      <td>42.903529</td>\n",
       "      <td>102.258824</td>\n",
       "      <td>77.66</td>\n",
       "      <td>5.07</td>\n",
       "      <td>2.0</td>\n",
       "    </tr>\n",
       "  </tbody>\n",
       "</table>\n",
       "</div>"
      ],
      "text/plain": [
       "      iD  minor  geo-location  contact_email  vendors  sell_personal  \\\n",
       "0  20481      1             0              0        1              0   \n",
       "1  20484      0             0              1        0              0   \n",
       "2    854      0             0              0        0              0   \n",
       "3  20490      1             0              1        0              0   \n",
       "4  20493      0             0              0        0              0   \n",
       "5    173      0             0              1        0              0   \n",
       "6  11096      0             0              1        0              0   \n",
       "7  20500      0             0              0        0              0   \n",
       "8    516      0             1              0        0              0   \n",
       "9  20506      0             0              0        0              0   \n",
       "\n",
       "   share_personal  Cookies  fog_index  avg_sentence_length  \\\n",
       "0               0        0  75.245659           183.114146   \n",
       "1               1        1  58.618557           141.546392   \n",
       "2               0        0  55.264865           133.162162   \n",
       "3               0        1  70.405195           171.012987   \n",
       "4               0        0  81.172242           197.930605   \n",
       "5               0        1  47.731507           114.328767   \n",
       "6               0        0  49.727168           119.317919   \n",
       "7               0        1  92.804233           227.010582   \n",
       "8               0        1  66.037158           160.092896   \n",
       "9               0        0  42.903529           102.258824   \n",
       "\n",
       "   flesch_reading_ease  dale_chall_readability_score  Score  \n",
       "0                -4.42                          9.08    3.0  \n",
       "1                37.79                          7.02    3.0  \n",
       "2                46.30                          6.60    2.0  \n",
       "3                 7.88                          8.48    3.0  \n",
       "4               -10.99                          9.82    2.0  \n",
       "5                65.41                          5.67    3.0  \n",
       "6                60.35                          5.92    2.0  \n",
       "7               -48.97                         11.26    2.0  \n",
       "8                18.96                          7.94    2.0  \n",
       "9                77.66                          5.07    2.0  "
      ]
     },
     "metadata": {},
     "output_type": "display_data"
    }
   ],
   "source": [
    "data = pd.read_csv(\"final.csv\")\n",
    "display(data.head(n=10))"
   ]
  },
  {
   "cell_type": "code",
   "execution_count": 4,
   "metadata": {},
   "outputs": [],
   "source": [
    "#Split the data into labels and features\n",
    "scores = data['Score']\n",
    "\n",
    "features_raw = data.drop(['Score', 'iD', 'vendors'] , axis = 1)\n",
    "# features_raw = data.drop(\"vendors\", axis =1)"
   ]
  },
  {
   "cell_type": "code",
   "execution_count": 5,
   "metadata": {},
   "outputs": [
    {
     "data": {
      "text/html": [
       "<div>\n",
       "<style scoped>\n",
       "    .dataframe tbody tr th:only-of-type {\n",
       "        vertical-align: middle;\n",
       "    }\n",
       "\n",
       "    .dataframe tbody tr th {\n",
       "        vertical-align: top;\n",
       "    }\n",
       "\n",
       "    .dataframe thead th {\n",
       "        text-align: right;\n",
       "    }\n",
       "</style>\n",
       "<table border=\"1\" class=\"dataframe\">\n",
       "  <thead>\n",
       "    <tr style=\"text-align: right;\">\n",
       "      <th></th>\n",
       "      <th>minor</th>\n",
       "      <th>geo-location</th>\n",
       "      <th>contact_email</th>\n",
       "      <th>sell_personal</th>\n",
       "      <th>share_personal</th>\n",
       "      <th>Cookies</th>\n",
       "      <th>fog_index</th>\n",
       "      <th>avg_sentence_length</th>\n",
       "      <th>flesch_reading_ease</th>\n",
       "      <th>dale_chall_readability_score</th>\n",
       "    </tr>\n",
       "  </thead>\n",
       "  <tbody>\n",
       "    <tr>\n",
       "      <th>0</th>\n",
       "      <td>1</td>\n",
       "      <td>0</td>\n",
       "      <td>0</td>\n",
       "      <td>0</td>\n",
       "      <td>0</td>\n",
       "      <td>0</td>\n",
       "      <td>0.660803</td>\n",
       "      <td>0.660803</td>\n",
       "      <td>0.332320</td>\n",
       "      <td>0.660400</td>\n",
       "    </tr>\n",
       "    <tr>\n",
       "      <th>1</th>\n",
       "      <td>0</td>\n",
       "      <td>0</td>\n",
       "      <td>1</td>\n",
       "      <td>0</td>\n",
       "      <td>1</td>\n",
       "      <td>1</td>\n",
       "      <td>0.418325</td>\n",
       "      <td>0.418325</td>\n",
       "      <td>0.569989</td>\n",
       "      <td>0.418331</td>\n",
       "    </tr>\n",
       "    <tr>\n",
       "      <th>2</th>\n",
       "      <td>0</td>\n",
       "      <td>0</td>\n",
       "      <td>0</td>\n",
       "      <td>0</td>\n",
       "      <td>0</td>\n",
       "      <td>0</td>\n",
       "      <td>0.369417</td>\n",
       "      <td>0.369417</td>\n",
       "      <td>0.617905</td>\n",
       "      <td>0.368978</td>\n",
       "    </tr>\n",
       "    <tr>\n",
       "      <th>3</th>\n",
       "      <td>1</td>\n",
       "      <td>0</td>\n",
       "      <td>1</td>\n",
       "      <td>0</td>\n",
       "      <td>0</td>\n",
       "      <td>1</td>\n",
       "      <td>0.590213</td>\n",
       "      <td>0.590213</td>\n",
       "      <td>0.401577</td>\n",
       "      <td>0.589894</td>\n",
       "    </tr>\n",
       "    <tr>\n",
       "      <th>4</th>\n",
       "      <td>0</td>\n",
       "      <td>0</td>\n",
       "      <td>0</td>\n",
       "      <td>0</td>\n",
       "      <td>0</td>\n",
       "      <td>0</td>\n",
       "      <td>0.747232</td>\n",
       "      <td>0.747232</td>\n",
       "      <td>0.295327</td>\n",
       "      <td>0.747356</td>\n",
       "    </tr>\n",
       "  </tbody>\n",
       "</table>\n",
       "</div>"
      ],
      "text/plain": [
       "   minor  geo-location  contact_email  sell_personal  share_personal  Cookies  \\\n",
       "0      1             0              0              0               0        0   \n",
       "1      0             0              1              0               1        1   \n",
       "2      0             0              0              0               0        0   \n",
       "3      1             0              1              0               0        1   \n",
       "4      0             0              0              0               0        0   \n",
       "\n",
       "   fog_index  avg_sentence_length  flesch_reading_ease  \\\n",
       "0   0.660803             0.660803             0.332320   \n",
       "1   0.418325             0.418325             0.569989   \n",
       "2   0.369417             0.369417             0.617905   \n",
       "3   0.590213             0.590213             0.401577   \n",
       "4   0.747232             0.747232             0.295327   \n",
       "\n",
       "   dale_chall_readability_score  \n",
       "0                      0.660400  \n",
       "1                      0.418331  \n",
       "2                      0.368978  \n",
       "3                      0.589894  \n",
       "4                      0.747356  "
      ]
     },
     "metadata": {},
     "output_type": "display_data"
    }
   ],
   "source": [
    "from sklearn.preprocessing import MinMaxScaler\n",
    "# Initialize a scaler, then apply it to the features\n",
    "scaler = MinMaxScaler()\n",
    "numerical = ['fog_index', 'avg_sentence_length', 'flesch_reading_ease', 'dale_chall_readability_score']\n",
    "features_log_minmax_transform = pd.DataFrame(data = features_raw)\n",
    "features_log_minmax_transform[numerical] = scaler.fit_transform(features_raw[numerical])\n",
    "\n",
    "\n",
    "# Show an example of a record with scaling applied\n",
    "display(features_log_minmax_transform.head(n = 5))"
   ]
  },
  {
   "cell_type": "code",
   "execution_count": 6,
   "metadata": {},
   "outputs": [
    {
     "name": "stdout",
     "output_type": "stream",
     "text": [
      "Training set has 347 samples.\n",
      "Testing set has 87 samples.\n"
     ]
    }
   ],
   "source": [
    "# Import train_test_split\n",
    "from sklearn.model_selection import train_test_split\n",
    "# Split the 'features' and 'income' data into training and testing sets\n",
    "X_train, X_test, y_train, y_test = train_test_split(features_log_minmax_transform, \n",
    "                                                    scores, \n",
    "                                                    test_size = 0.2, \n",
    "                                                    random_state = 0)\n",
    "# Show the results of the split\n",
    "print(\"Training set has {} samples.\".format(X_train.shape[0]))\n",
    "print(\"Testing set has {} samples.\".format(X_test.shape[0]))"
   ]
  },
  {
   "cell_type": "markdown",
   "metadata": {},
   "source": [
    "# Random Forrest"
   ]
  },
  {
   "cell_type": "code",
   "execution_count": 7,
   "metadata": {},
   "outputs": [
    {
     "data": {
      "text/plain": [
       "0.8799399399399398"
      ]
     },
     "execution_count": 7,
     "metadata": {},
     "output_type": "execute_result"
    }
   ],
   "source": [
    "from sklearn.ensemble import RandomForestClassifier\n",
    "from sklearn.metrics import f1_score\n",
    "\n",
    "forest = RandomForestClassifier(n_estimators=50, max_depth=None,random_state=1, criterion=\"entropy\")\n",
    "\n",
    "forest.fit(X_train, y_train)\n",
    "\n",
    "forrest_predict = forest.predict(X_test)\n",
    "f1_score(y_test, forrest_predict, average='macro')"
   ]
  },
  {
   "cell_type": "code",
   "execution_count": 15,
   "metadata": {},
   "outputs": [
    {
     "name": "stdout",
     "output_type": "stream",
     "text": [
      "              precision    recall  f1-score   support\n",
      "\n",
      "           1       0.75      0.94      0.83        16\n",
      "           2       0.85      0.89      0.87        44\n",
      "           3       0.94      0.71      0.81        21\n",
      "           4       1.00      0.80      0.89         5\n",
      "           5       1.00      1.00      1.00         1\n",
      "\n",
      "   micro avg       0.85      0.85      0.85        87\n",
      "   macro avg       0.91      0.87      0.88        87\n",
      "weighted avg       0.86      0.85      0.85        87\n",
      "\n"
     ]
    }
   ],
   "source": [
    "from sklearn.metrics import classification_report\n",
    "target_names = ['1', '2', '3', '4', '5']\n",
    "print(classification_report(y_test, forrest_predict, target_names=target_names))"
   ]
  },
  {
   "cell_type": "markdown",
   "metadata": {},
   "source": [
    "# Extra Decision Trees"
   ]
  },
  {
   "cell_type": "code",
   "execution_count": 17,
   "metadata": {},
   "outputs": [
    {
     "data": {
      "text/plain": [
       "0.8045977011494253"
      ]
     },
     "execution_count": 17,
     "metadata": {},
     "output_type": "execute_result"
    }
   ],
   "source": [
    "from sklearn.ensemble import ExtraTreesClassifier\n",
    "from sklearn.tree import DecisionTreeClassifier\n",
    "from sklearn.ensemble import ExtraTreesClassifier\n",
    "\n",
    "\n",
    "extra = ExtraTreesClassifier(n_estimators = 5, random_state = 14, criterion='entropy')\n",
    "extra.fit(X_train, y_train)\n",
    "\n",
    "predictions_extra = extra.predict(X_test)\n",
    "f1_score(y_test, predictions_extra, average='micro')"
   ]
  },
  {
   "cell_type": "code",
   "execution_count": 22,
   "metadata": {},
   "outputs": [
    {
     "name": "stdout",
     "output_type": "stream",
     "text": [
      "              precision    recall  f1-score   support\n",
      "\n",
      "           1       0.71      0.94      0.81        16\n",
      "           2       0.84      0.82      0.83        44\n",
      "           3       0.82      0.67      0.74        21\n",
      "           4       0.80      0.80      0.80         5\n",
      "           5       1.00      1.00      1.00         1\n",
      "\n",
      "   micro avg       0.80      0.80      0.80        87\n",
      "   macro avg       0.84      0.84      0.84        87\n",
      "weighted avg       0.81      0.80      0.80        87\n",
      "\n"
     ]
    }
   ],
   "source": [
    "print(classification_report(y_test, predictions_extra, target_names=target_names))"
   ]
  },
  {
   "cell_type": "markdown",
   "metadata": {},
   "source": [
    "# AdaBoost"
   ]
  },
  {
   "cell_type": "code",
   "execution_count": 16,
   "metadata": {},
   "outputs": [
    {
     "ename": "NameError",
     "evalue": "name 'DecisionTreeClassifier' is not defined",
     "output_type": "error",
     "traceback": [
      "\u001b[0;31m---------------------------------------------------------------------------\u001b[0m",
      "\u001b[0;31mNameError\u001b[0m                                 Traceback (most recent call last)",
      "\u001b[0;32m<ipython-input-16-7b64444fd9c1>\u001b[0m in \u001b[0;36m<module>\u001b[0;34m\u001b[0m\n\u001b[1;32m      1\u001b[0m \u001b[0;32mfrom\u001b[0m \u001b[0msklearn\u001b[0m\u001b[0;34m.\u001b[0m\u001b[0mensemble\u001b[0m \u001b[0;32mimport\u001b[0m \u001b[0mAdaBoostClassifier\u001b[0m\u001b[0;34m\u001b[0m\u001b[0m\n\u001b[0;32m----> 2\u001b[0;31m \u001b[0mtree\u001b[0m \u001b[0;34m=\u001b[0m \u001b[0mDecisionTreeClassifier\u001b[0m\u001b[0;34m(\u001b[0m\u001b[0mmax_depth\u001b[0m\u001b[0;34m=\u001b[0m\u001b[0;36m10\u001b[0m\u001b[0;34m,\u001b[0m \u001b[0mcriterion\u001b[0m\u001b[0;34m=\u001b[0m\u001b[0;34m'gini'\u001b[0m\u001b[0;34m,\u001b[0m \u001b[0mmin_samples_split\u001b[0m\u001b[0;34m=\u001b[0m\u001b[0;36m5\u001b[0m\u001b[0;34m)\u001b[0m\u001b[0;34m\u001b[0m\u001b[0m\n\u001b[0m\u001b[1;32m      3\u001b[0m ada = AdaBoostClassifier(base_estimator=extra, \n\u001b[1;32m      4\u001b[0m                          \u001b[0mn_estimators\u001b[0m\u001b[0;34m=\u001b[0m\u001b[0;36m50\u001b[0m\u001b[0;34m,\u001b[0m \u001b[0mlearning_rate\u001b[0m\u001b[0;34m=\u001b[0m\u001b[0;36m.2\u001b[0m\u001b[0;34m,\u001b[0m\u001b[0;34m\u001b[0m\u001b[0m\n\u001b[1;32m      5\u001b[0m                          algorithm='SAMME.R', random_state=4)\n",
      "\u001b[0;31mNameError\u001b[0m: name 'DecisionTreeClassifier' is not defined"
     ]
    }
   ],
   "source": [
    "from sklearn.ensemble import AdaBoostClassifier\n",
    "tree = DecisionTreeClassifier(max_depth=10, criterion='gini', min_samples_split=5)\n",
    "ada = AdaBoostClassifier(base_estimator=extra, \n",
    "                         n_estimators=50, learning_rate=.2,\n",
    "                         algorithm='SAMME.R', random_state=4)\n",
    "ada.fit(X_train, y_train)\n",
    "predictions_ada = ada.predict(X_test)\n",
    "f1_score(y_test, predictions_ada, average='micro')"
   ]
  },
  {
   "cell_type": "code",
   "execution_count": 12,
   "metadata": {},
   "outputs": [
    {
     "name": "stdout",
     "output_type": "stream",
     "text": [
      "              precision    recall  f1-score   support\n",
      "\n",
      "           1       0.90      0.56      0.69        16\n",
      "           2       0.82      0.84      0.83        44\n",
      "           3       0.62      0.76      0.68        21\n",
      "           4       0.80      0.80      0.80         5\n",
      "           5       1.00      1.00      1.00         1\n",
      "\n",
      "   micro avg       0.77      0.77      0.77        87\n",
      "   macro avg       0.83      0.79      0.80        87\n",
      "weighted avg       0.79      0.77      0.77        87\n",
      "\n"
     ]
    }
   ],
   "source": [
    "print(classification_report(y_test, predictions_ada, target_names=target_names))"
   ]
  },
  {
   "cell_type": "code",
   "execution_count": 12,
   "metadata": {},
   "outputs": [
    {
     "name": "stdout",
     "output_type": "stream",
     "text": [
      "Accuracy: 80.415% (39.686%)\n"
     ]
    }
   ],
   "source": [
    "from sklearn import model_selection\n",
    "X = features_log_minmax_transform\n",
    "y = scores\n",
    "num_folds = 5\n",
    "num_instances = len(X)\n",
    "loocv = model_selection.LeaveOneOut()\n",
    "model = ExtraTreesClassifier(n_estimators=200, max_depth=11,random_state=None, \n",
    "                             criterion=\"gini\", min_samples_split=5)\n",
    "results = model_selection.cross_val_score(model, X, y, cv=loocv)\n",
    "print(\"Accuracy: %.3f%% (%.3f%%)\" % (results.mean()*100.0, results.std()*100.0))"
   ]
  },
  {
   "cell_type": "code",
   "execution_count": null,
   "metadata": {},
   "outputs": [],
   "source": []
  }
 ],
 "metadata": {
  "kernelspec": {
   "display_name": "Python 3",
   "language": "python",
   "name": "python3"
  },
  "language_info": {
   "codemirror_mode": {
    "name": "ipython",
    "version": 3
   },
   "file_extension": ".py",
   "mimetype": "text/x-python",
   "name": "python",
   "nbconvert_exporter": "python",
   "pygments_lexer": "ipython3",
   "version": "3.7.0"
  }
 },
 "nbformat": 4,
 "nbformat_minor": 2
}
